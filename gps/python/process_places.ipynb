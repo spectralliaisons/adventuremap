{
 "cells": [
  {
   "cell_type": "markdown",
   "metadata": {},
   "source": [
    "# Initialization"
   ]
  },
  {
   "cell_type": "code",
   "execution_count": 1,
   "metadata": {},
   "outputs": [],
   "source": [
    "from PIL import Image, ExifTags\n",
    "import getexifdata, glob, os, json, io, shutil, logprogress\n",
    "\n",
    "DIR_PLACES = \"../s3/\"\n",
    "DIR_KML = \"kml/\"\n",
    "DIR_AUD = \"aud/\"\n",
    "DIR_IMG_ORIG = \"img/\"\n",
    "DIR_IMG_THUMBNAIL = \"imgSm/\"\n",
    "DIR_IMG_ERR = \"imgErr/\"\n",
    "\n",
    "IMG_FORMAT = \".jpg\"\n",
    "AUD_FORMAT = \".mp3\"\n",
    "\n",
    "INPUT_JSON = \"info_template.json\"\n",
    "OUTPUT_JSON = \"info.json\"\n",
    "SMRY_JSON = \"all_rivers.json\"\n",
    "\n",
    "SIZE_IMG_THUMBNAIL = 400\n",
    "\n",
    "# likely prefixes for original images named by the os when pic taken\n",
    "BLACKLIST_FLABEL_PREFIX = [\"IMG\", \"MVIMG\", \"PANO\"]\n",
    "\n",
    "####################\n",
    "###\n",
    "### helper functions\n",
    "###\n",
    "\n",
    "# if dir exists, clear it\n",
    "def init_dir(path):\n",
    "    if os.path.isdir(path):\n",
    "        shutil.rmtree(path)\n",
    "    os.makedirs(path)\n",
    "\n",
    "def strip_dir(fpath, dir):\n",
    "    i = fpath.index(dir)+len(dir)\n",
    "    return fpath[i:len(fpath)]\n",
    "\n",
    "def get_fname(fpath):\n",
    "    return fpath.split(\"/\")[-1]\n",
    "\n",
    "def get_flabel(fpath, ext):\n",
    "    return get_fname(fpath).replace(ext, \"\")\n",
    "\n",
    "def find_audio_for_img(label):\n",
    "    for fpath in glob.glob(base_path + DIR_AUD + \"*\" + AUD_FORMAT):\n",
    "        flabel = get_flabel(fpath, AUD_FORMAT)\n",
    "        if flabel == label:\n",
    "            return strip_dir(fpath, \"/\" + DIR_AUD)\n",
    "    return None # no warning needed\n",
    "\n",
    "def save_err_img(fpath, msg):\n",
    "    im = Image.open(fpath)\n",
    "    im.save(base_path + DIR_IMG_ERR + get_fname(fpath).replace(IMG_FORMAT, \"\") + \"_\" + msg + IMG_FORMAT)\n",
    "\n",
    "def get_gps_for_fpath(fpath):\n",
    "    im = Image.open(fpath)\n",
    "    edat = getexifdata.get_exif_data(im)\n",
    "    lat, lng = getexifdata.get_lat_lon(edat)\n",
    "    if lat == None or lng == None:\n",
    "        save_err_img(fpath, \"WARNING! no gps data for image\")\n",
    "        return None\n",
    "    else:\n",
    "        return {\"lat\":lat, \"lng\":lng}\n",
    "\n",
    "def get_date_for_fpath(fpath):\n",
    "    im = Image.open(fpath)\n",
    "    edat = getexifdata.get_exif_data(im)\n",
    "    if \"DateTime\" in edat:\n",
    "        date = edat[\"DateTime\"]\n",
    "    elif \"DateTimeOriginal\" in edat:\n",
    "        date = edat[\"DateTimeOriginal\"]\n",
    "    else:\n",
    "        date = \"(Date Unknown)\"\n",
    "    return date\n",
    "\n",
    "try:\n",
    "    to_unicode = unicode\n",
    "except NameError:\n",
    "    to_unicode = str    \n",
    "\n",
    "def find_kml():\n",
    "    return [strip_dir(fpath, \"/\" + DIR_KML) for fpath in glob.glob(base_path + DIR_KML + \"*.kml\")]\n",
    "\n",
    "def reorient_img(fileName, height):\n",
    "    # thanks storm_to : http://stackoverflow.com/questions/4228530/pil-thumbnail-is-rotating-my-image \n",
    "    fpath = base_path + DIR_IMG_ORIG + fileName\n",
    "    image=Image.open(fpath)\n",
    "    exif_raw = image._getexif()\n",
    "    if (exif_raw):\n",
    "        for orientation in ExifTags.TAGS.keys() : \n",
    "            if ExifTags.TAGS[orientation]=='Orientation' : break \n",
    "        exif=dict(exif_raw.items())\n",
    "\n",
    "        try:\n",
    "            if   exif[orientation] == 3 : \n",
    "                image=image.rotate(180, expand=True)\n",
    "            elif exif[orientation] == 6 : \n",
    "                image=image.rotate(270, expand=True)\n",
    "            elif exif[orientation] == 8 : \n",
    "                image=image.rotate(90, expand=True)\n",
    "        except KeyError:\n",
    "            False\n",
    "            #print(\"No orientation EXIF data for: \" + fileName)\n",
    "\n",
    "    # thumnail\n",
    "    r = float(height) / image.size[1]\n",
    "    w = float(image.size[0]) * r\n",
    "    image.thumbnail((w, height), Image.ANTIALIAS)\n",
    "    image.save(base_path + DIR_IMG_THUMBNAIL + fileName)\n",
    "\n",
    "####################\n",
    "###\n",
    "### sanity check\n",
    "###\n",
    "\n",
    "# sanity check: every audio file should have a matching img\n",
    "def ensure_audio_img_match():\n",
    "    # error if an audio file has no image. slow, but we should ensure this.\n",
    "    for fpath in glob.glob(base_path + DIR_AUD + \"*\" + AUD_FORMAT):\n",
    "        match = False\n",
    "        for imgpath in glob.glob(base_path + DIR_IMG_ORIG + \"*\" + IMG_FORMAT):\n",
    "            if get_flabel(imgpath, IMG_FORMAT) == get_flabel(fpath, AUD_FORMAT):\n",
    "                match = True\n",
    "        if not match:\n",
    "            #raise FileNotFoundError(\"no image for audio file: \" + fpath)\n",
    "            return True\n",
    "\n",
    "# sanity check: every image should have GPS coordinates\n",
    "def ensure_img_gps():\n",
    "    [get_gps_for_fpath(fpath) for fpath in glob.glob(base_path + DIR_IMG_ORIG + \"*\" + IMG_FORMAT)]\n",
    "\n",
    "# only permit location labels that were most likely hand-named image filenames\n",
    "def verify_flabel(flabel):\n",
    "    # invalid label if filename begins with '201' (likely a date)\n",
    "    try:\n",
    "        flabel.index(\"201\")\n",
    "        return False\n",
    "    except ValueError:\n",
    "        False # ignore\n",
    "    # invalid label if blacklisted\n",
    "    for prefix in BLACKLIST_FLABEL_PREFIX:\n",
    "        try:\n",
    "            flabel.index(prefix)\n",
    "            return False\n",
    "        except ValueError:\n",
    "            continue\n",
    "    return True"
   ]
  },
  {
   "cell_type": "markdown",
   "metadata": {},
   "source": [
    "# Run"
   ]
  },
  {
   "cell_type": "code",
   "execution_count": 2,
   "metadata": {
    "scrolled": true
   },
   "outputs": [
    {
     "data": {
      "application/vnd.jupyter.widget-view+json": {
       "model_id": "b0c99a62831f4867a0ca01d437fd4107",
       "version_major": 2,
       "version_minor": 0
      },
      "text/plain": [
       "VBox(children=(HTML(value=''), IntProgress(value=0, max=9)))"
      ]
     },
     "metadata": {},
     "output_type": "display_data"
    },
    {
     "name": "stdout",
     "output_type": "stream",
     "text": [
      "processing place: ../s3/SF_Watershed/\n"
     ]
    },
    {
     "data": {
      "application/vnd.jupyter.widget-view+json": {
       "model_id": "97a41773c5794ad8910c53adb9cc69dc",
       "version_major": 2,
       "version_minor": 0
      },
      "text/plain": [
       "VBox(children=(HTML(value=''), IntProgress(value=0, max=42)))"
      ]
     },
     "metadata": {},
     "output_type": "display_data"
    },
    {
     "name": "stdout",
     "output_type": "stream",
     "text": [
      "processing place: ../s3/Sacramento_River/\n"
     ]
    },
    {
     "data": {
      "application/vnd.jupyter.widget-view+json": {
       "model_id": "9f18a38ab6da45c68be30268596577c8",
       "version_major": 2,
       "version_minor": 0
      },
      "text/plain": [
       "VBox(children=(HTML(value=''), IntProgress(value=0, max=0)))"
      ]
     },
     "metadata": {},
     "output_type": "display_data"
    },
    {
     "name": "stdout",
     "output_type": "stream",
     "text": [
      "processing place: ../s3/San_Joaquin_River/\n"
     ]
    },
    {
     "data": {
      "application/vnd.jupyter.widget-view+json": {
       "model_id": "fb7e958a5a2b411ea93abc9e2eacdc2f",
       "version_major": 2,
       "version_minor": 0
      },
      "text/plain": [
       "VBox(children=(HTML(value=''), IntProgress(value=0, max=0)))"
      ]
     },
     "metadata": {},
     "output_type": "display_data"
    },
    {
     "name": "stdout",
     "output_type": "stream",
     "text": [
      "processing place: ../s3/Feather_River/\n"
     ]
    },
    {
     "data": {
      "application/vnd.jupyter.widget-view+json": {
       "model_id": "994701a140dd4d97b64e46cd14244eff",
       "version_major": 2,
       "version_minor": 0
      },
      "text/plain": [
       "VBox(children=(HTML(value=''), IntProgress(value=0, max=32)))"
      ]
     },
     "metadata": {},
     "output_type": "display_data"
    },
    {
     "name": "stdout",
     "output_type": "stream",
     "text": [
      "processing place: ../s3/Russian_River/\n"
     ]
    },
    {
     "data": {
      "application/vnd.jupyter.widget-view+json": {
       "model_id": "60c8c205034c4248944b5d0e190354c6",
       "version_major": 2,
       "version_minor": 0
      },
      "text/plain": [
       "VBox(children=(HTML(value=''), IntProgress(value=0, max=169)))"
      ]
     },
     "metadata": {},
     "output_type": "display_data"
    },
    {
     "name": "stdout",
     "output_type": "stream",
     "text": [
      "processing place: ../s3/Yuba_River/\n"
     ]
    },
    {
     "data": {
      "application/vnd.jupyter.widget-view+json": {
       "model_id": "d1b63fa20159454e947e0ad31e482ff0",
       "version_major": 2,
       "version_minor": 0
      },
      "text/plain": [
       "VBox(children=(HTML(value=''), IntProgress(value=0, max=34)))"
      ]
     },
     "metadata": {},
     "output_type": "display_data"
    },
    {
     "name": "stdout",
     "output_type": "stream",
     "text": [
      "processing place: ../s3/Costa_Rica_2017/\n"
     ]
    },
    {
     "data": {
      "application/vnd.jupyter.widget-view+json": {
       "model_id": "e1668c83f37843c5a7cd3ee844e0f2f8",
       "version_major": 2,
       "version_minor": 0
      },
      "text/plain": [
       "VBox(children=(HTML(value=''), IntProgress(value=0, max=163)))"
      ]
     },
     "metadata": {},
     "output_type": "display_data"
    },
    {
     "name": "stdout",
     "output_type": "stream",
     "text": [
      "processing place: ../s3/Costa_Rica_2018/\n"
     ]
    },
    {
     "data": {
      "application/vnd.jupyter.widget-view+json": {
       "model_id": "05681c67a1a14ebb863494bab2ee69ee",
       "version_major": 2,
       "version_minor": 0
      },
      "text/plain": [
       "VBox(children=(HTML(value=''), IntProgress(value=0, max=37)))"
      ]
     },
     "metadata": {},
     "output_type": "display_data"
    },
    {
     "name": "stdout",
     "output_type": "stream",
     "text": [
      "processing place: ../s3/Eel_River/\n"
     ]
    },
    {
     "data": {
      "application/vnd.jupyter.widget-view+json": {
       "model_id": "b5811b045f5147cbb308f1429c1e7e0c",
       "version_major": 2,
       "version_minor": 0
      },
      "text/plain": [
       "VBox(children=(HTML(value=''), IntProgress(value=0, max=66)))"
      ]
     },
     "metadata": {},
     "output_type": "display_data"
    },
    {
     "name": "stdout",
     "output_type": "stream",
     "text": [
      "done.\n"
     ]
    }
   ],
   "source": [
    "# process every dir in Places/\n",
    "placels = glob.glob(DIR_PLACES + \"*/\")\n",
    "\n",
    "# or maybe only process a single place\n",
    "# placels = [DIR_PLACES + \"YubaRiver/\"]\n",
    "\n",
    "# create json of all places. initialize with a \"place\" called \"All\"\n",
    "all_places = {\"places\":[{\"id\":\"All\", \"disp\":\"All\"}]}\n",
    "\n",
    "# process each directory\n",
    "for base_path in logprogress.log_progress(placels):\n",
    "\n",
    "    print(\"processing place: \" + base_path)\n",
    "    \n",
    "    # clear workspace\n",
    "    init_dir(base_path + DIR_IMG_THUMBNAIL)\n",
    "    init_dir(base_path + DIR_IMG_ERR)\n",
    "    \n",
    "    ensure_img_gps()\n",
    "    ensure_audio_img_match()\n",
    "\n",
    "    # read json template\n",
    "    with open(base_path + INPUT_JSON) as data_file:\n",
    "        data = json.load(data_file)\n",
    "        data[\"layers\"] = find_kml()\n",
    "\n",
    "        # for every image...\n",
    "        files = glob.glob(base_path + DIR_IMG_ORIG + \"*\" + IMG_FORMAT)\n",
    "        for fpath in logprogress.log_progress(files):\n",
    "            \n",
    "            # compile location info\n",
    "            flabel = get_flabel(fpath, IMG_FORMAT)\n",
    "            loc = get_gps_for_fpath(fpath)\n",
    "            \n",
    "            if loc != None:\n",
    "                fnam = get_fname(fpath)\n",
    "                date = get_date_for_fpath(fpath)\n",
    "                \n",
    "                marker = {\n",
    "                    \"date\": date,\n",
    "                    \"loc\": loc,\n",
    "                    \"img\": fnam,\n",
    "                    \"aud\": find_audio_for_img(flabel)\n",
    "                }\n",
    "                \n",
    "                if verify_flabel(flabel):\n",
    "                    marker[\"label\"] = flabel\n",
    "                \n",
    "                data[\"locations\"].append(marker)\n",
    "\n",
    "                # save web-friendly image (rotated & small)\n",
    "                reorient_img(fnam, SIZE_IMG_THUMBNAIL)\n",
    "        \n",
    "        # Write JSON file\n",
    "        # http://stackoverflow.com/questions/12309269/how-do-i-write-json-data-to-a-file-in-python\n",
    "        with io.open(base_path + OUTPUT_JSON, 'w', encoding='utf8') as outfile:\n",
    "            str_ = json.dumps(data,\n",
    "                              indent=4, sort_keys=True,\n",
    "                              separators=(',', ':'), ensure_ascii=False)\n",
    "            outfile.write(to_unicode(str_))\n",
    "    \n",
    "    # add to summary json\n",
    "    dirName = base_path.split(\"/\")[-2]\n",
    "    dispName = dirName.replace(\"_\", \" \")\n",
    "    \n",
    "    all_places[\"places\"].append({\n",
    "        \"id\": dirName,\n",
    "        \"disp\": dispName\n",
    "    })\n",
    "\n",
    "# write summary json: all place names\n",
    "with io.open(DIR_PLACES + SMRY_JSON, 'w', encoding='utf8') as outfile:\n",
    "    str_ = json.dumps(all_places,\n",
    "                      indent=4, sort_keys=True,\n",
    "                      separators=(',', ':'), ensure_ascii=False)\n",
    "    outfile.write(to_unicode(str_))\n",
    "            \n",
    "print(\"done.\")"
   ]
  },
  {
   "cell_type": "code",
   "execution_count": 8,
   "metadata": {},
   "outputs": [
    {
     "data": {
      "text/plain": [
       "{'Model': 'Pixel 2',\n",
       " 'Software': 'Picasa',\n",
       " 'Orientation': 1,\n",
       " 'GPSInfo': {'GPSVersionID': b'\\x02\\x02\\x00\\x00',\n",
       "  'GPSLatitudeRef': 'N',\n",
       "  'GPSLatitude': ((9, 1), (44, 1), (3497, 100)),\n",
       "  'GPSLongitudeRef': 'W',\n",
       "  'GPSLongitude': ((85, 1), (0, 1), (1161, 50)),\n",
       "  'GPSAltitudeRef': b'\\x00',\n",
       "  'GPSAltitude': (201, 10)},\n",
       " 'ExifOffset': 108,\n",
       " 'Make': 'Google',\n",
       " 'ExifVersion': b'0220',\n",
       " 'ColorSpace': 1,\n",
       " 'ExifImageWidth': 3024,\n",
       " 'DateTimeOriginal': '2018:12:22 07:17:38',\n",
       " 'ExifImageHeight': 4032,\n",
       " 'ExifInteroperabilityOffset': 438,\n",
       " 'SubjectDistance': (2248147, 4194304),\n",
       " 'ImageUniqueID': 'd0010ccf32b2147b0000000000000000',\n",
       " 'FocalLength': (9315549, 2097152)}"
      ]
     },
     "execution_count": 8,
     "metadata": {},
     "output_type": "execute_result"
    }
   ],
   "source": [
    "fnam = get_fname(fpath)\n",
    "im = Image.open(fpath)\n",
    "edat = getexifdata.get_exif_data(im)\n",
    "edat"
   ]
  },
  {
   "cell_type": "code",
   "execution_count": null,
   "metadata": {},
   "outputs": [],
   "source": []
  }
 ],
 "metadata": {
  "anaconda-cloud": {},
  "kernelspec": {
   "display_name": "Python 3",
   "language": "python",
   "name": "python3"
  },
  "language_info": {
   "codemirror_mode": {
    "name": "ipython",
    "version": 3
   },
   "file_extension": ".py",
   "mimetype": "text/x-python",
   "name": "python",
   "nbconvert_exporter": "python",
   "pygments_lexer": "ipython3",
   "version": "3.7.0"
  }
 },
 "nbformat": 4,
 "nbformat_minor": 1
}
