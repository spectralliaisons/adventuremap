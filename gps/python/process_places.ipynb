{
 "cells": [
  {
   "cell_type": "code",
   "execution_count": 1,
   "metadata": {
    "collapsed": false
   },
   "outputs": [
    {
     "name": "stdout",
     "output_type": "stream",
     "text": [
      "processing place: ../Places/SanJoaquinRiver/\n",
      "processing place: ../Places/FeatherRiver/\n",
      "WARNING! no gps data for image : ../Places/FeatherRiver/img/2017-06-25 13.57.57 HDR.jpg\n",
      "WARNING! no gps data for image : ../Places/FeatherRiver/img/2017-06-25 13.57.57 HDR.jpg\n",
      "processing place: ../Places/RussianRiver/\n",
      "WARNING! no gps data for image : ../Places/RussianRiver/img/IMG_4529.jpg\n",
      "WARNING! no gps data for image : ../Places/RussianRiver/img/IMG_4343.jpg\n",
      "WARNING! no gps data for image : ../Places/RussianRiver/img/IMG_4529.jpg\n",
      "WARNING! no gps data for image : ../Places/RussianRiver/img/IMG_4343.jpg\n",
      "processing place: ../Places/SacramentoRiver/\n",
      "processing place: ../Places/CostaRica/\n",
      "WARNING! no gps data for image : ../Places/CostaRica/img/IMG_3497.jpg\n",
      "WARNING! no gps data for image : ../Places/CostaRica/img/IMG_3250.jpg\n",
      "WARNING! no gps data for image : ../Places/CostaRica/img/IMG_3286.jpg\n",
      "WARNING! no gps data for image : ../Places/CostaRica/img/IMG_3269.jpg\n",
      "WARNING! no gps data for image : ../Places/CostaRica/img/IMG_2407.jpg\n",
      "WARNING! no gps data for image : ../Places/CostaRica/img/IMG_3054.jpg\n",
      "WARNING! no gps data for image : ../Places/CostaRica/img/IMG_3069.jpg\n",
      "WARNING! no gps data for image : ../Places/CostaRica/img/IMG_3294.jpg\n",
      "WARNING! no gps data for image : ../Places/CostaRica/img/IMG_2473.jpg\n",
      "WARNING! no gps data for image : ../Places/CostaRica/img/IMG_3238.jpg\n",
      "WARNING! no gps data for image : ../Places/CostaRica/img/IMG_3312.jpg\n",
      "WARNING! no gps data for image : ../Places/CostaRica/img/IMG_3071.jpg\n",
      "WARNING! no gps data for image : ../Places/CostaRica/img/IMG_3059.jpg\n",
      "WARNING! no gps data for image : ../Places/CostaRica/img/IMG_3267.jpg\n",
      "WARNING! no gps data for image : ../Places/CostaRica/img/IMG_3304.jpg\n",
      "WARNING! no gps data for image : ../Places/CostaRica/img/IMG_3264.jpg\n",
      "WARNING! no gps data for image : ../Places/CostaRica/img/IMG_3260.jpg\n",
      "WARNING! no gps data for image : ../Places/CostaRica/img/IMG_3497.jpg\n",
      "WARNING! no gps data for image : ../Places/CostaRica/img/IMG_3250.jpg\n",
      "WARNING! no gps data for image : ../Places/CostaRica/img/IMG_3286.jpg\n",
      "WARNING! no gps data for image : ../Places/CostaRica/img/IMG_3269.jpg\n",
      "WARNING! no gps data for image : ../Places/CostaRica/img/IMG_2407.jpg\n",
      "WARNING! no gps data for image : ../Places/CostaRica/img/IMG_3054.jpg\n",
      "WARNING! no gps data for image : ../Places/CostaRica/img/IMG_3069.jpg\n",
      "WARNING! no gps data for image : ../Places/CostaRica/img/IMG_3294.jpg\n",
      "WARNING! no gps data for image : ../Places/CostaRica/img/IMG_2473.jpg\n",
      "WARNING! no gps data for image : ../Places/CostaRica/img/IMG_3238.jpg\n",
      "WARNING! no gps data for image : ../Places/CostaRica/img/IMG_3312.jpg\n",
      "WARNING! no gps data for image : ../Places/CostaRica/img/IMG_3071.jpg\n",
      "WARNING! no gps data for image : ../Places/CostaRica/img/IMG_3059.jpg\n",
      "WARNING! no gps data for image : ../Places/CostaRica/img/IMG_3267.jpg\n",
      "WARNING! no gps data for image : ../Places/CostaRica/img/IMG_3304.jpg\n",
      "WARNING! no gps data for image : ../Places/CostaRica/img/IMG_3264.jpg\n",
      "WARNING! no gps data for image : ../Places/CostaRica/img/IMG_3260.jpg\n",
      "processing place: ../Places/SFWatershed/\n",
      "WARNING! no gps data for image : ../Places/SFWatershed/img/2017-02-11 13.42.02 HDR.jpg\n",
      "WARNING! no gps data for image : ../Places/SFWatershed/img/2017-02-11 13.42.10 HDR.jpg\n",
      "WARNING! no gps data for image : ../Places/SFWatershed/img/2017-03-19 09.20.03 HDR.jpg\n",
      "WARNING! no gps data for image : ../Places/SFWatershed/img/2017-03-19 09.20.35 HDR.jpg\n",
      "WARNING! no gps data for image : ../Places/SFWatershed/img/2017-03-19 08.38.27.jpg\n",
      "WARNING! no gps data for image : ../Places/SFWatershed/img/2017-02-11 12.55.21.jpg\n",
      "WARNING! no gps data for image : ../Places/SFWatershed/img/2017-02-11 13.42.02 HDR.jpg\n",
      "WARNING! no gps data for image : ../Places/SFWatershed/img/2017-02-11 13.42.10 HDR.jpg\n",
      "WARNING! no gps data for image : ../Places/SFWatershed/img/2017-03-19 09.20.03 HDR.jpg\n",
      "WARNING! no gps data for image : ../Places/SFWatershed/img/2017-03-19 09.20.35 HDR.jpg\n",
      "WARNING! no gps data for image : ../Places/SFWatershed/img/2017-03-19 08.38.27.jpg\n",
      "WARNING! no gps data for image : ../Places/SFWatershed/img/2017-02-11 12.55.21.jpg\n",
      "processing place: ../Places/EelRiver/\n",
      "WARNING! no gps data for image : ../Places/EelRiver/img/2017-08-12 15.17.46 HDR.jpg\n",
      "WARNING! no gps data for image : ../Places/EelRiver/img/2017-08-12 15.17.46 HDR.jpg\n",
      "processing place: ../Places/YubaRiver/\n",
      "WARNING! no gps data for image : ../Places/YubaRiver/img/IMG_7250.jpg\n",
      "WARNING! no gps data for image : ../Places/YubaRiver/img/IMG_7249.jpg\n",
      "WARNING! no gps data for image : ../Places/YubaRiver/img/IMG_7250.jpg\n",
      "WARNING! no gps data for image : ../Places/YubaRiver/img/IMG_7249.jpg\n",
      "done.\n"
     ]
    }
   ],
   "source": [
    "from PIL import Image, ExifTags\n",
    "import getexifdata, glob, os, json, io, shutil, logprogress\n",
    "\n",
    "DIR_PLACES = \"../Places/\"\n",
    "DIR_KML = \"kml/\"\n",
    "DIR_AUD = \"aud/\"\n",
    "DIR_IMG_ORIG = \"img/\"\n",
    "DIR_IMG_THUMBNAIL = \"imgSm/\"\n",
    "DIR_IMG_ERR = \"imgErr/\"\n",
    "\n",
    "IMG_FORMAT = \".jpg\"\n",
    "AUD_FORMAT = \".mp3\"\n",
    "\n",
    "INPUT_JSON = \"info_template.json\"\n",
    "OUTPUT_JSON = \"info.json\"\n",
    "\n",
    "SIZE_IMG_THUMBNAIL = 400\n",
    "\n",
    "# process every dir in Places/\n",
    "placels = glob.glob(DIR_PLACES + \"*/\")\n",
    "\n",
    "# or maybe only process a single place\n",
    "# placels = [DIR_PLACES + \"YubaRiver/\"]\n",
    "\n",
    "# process each directory\n",
    "for base_path in logprogress.log_progress(placels):\n",
    "    \n",
    "    print(\"processing place: \" + base_path)\n",
    "    \n",
    "    # clear workspace\n",
    "    try:\n",
    "        shutil.rmtree(base_path + DIR_IMG_THUMBNAIL)\n",
    "        os.makedirs(base_path + DIR_IMG_THUMBNAIL)\n",
    "        shutil.rmtree(base_path + DIR_IMG_ERR)\n",
    "        os.makedirs(base_path + DIR_IMG_ERR)\n",
    "    except FileNotFoundError:\n",
    "        print(\"missing img dirs for: \" + base_path)\n",
    "\n",
    "    ####################\n",
    "    ###\n",
    "    ### helper functions\n",
    "    ###\n",
    "    \n",
    "    def strip_dir(fpath, dir):\n",
    "        i = fpath.index(dir)+len(dir)\n",
    "        return fpath[i:len(fpath)]\n",
    "\n",
    "    def get_fname(fpath):\n",
    "        return fpath.split(\"/\")[-1]\n",
    "\n",
    "    def get_flabel(fpath, ext):\n",
    "        return get_fname(fpath).replace(ext, \"\")\n",
    "\n",
    "    def find_audio_for_img(label):\n",
    "        for fpath in glob.glob(base_path + DIR_AUD + \"*\" + AUD_FORMAT):\n",
    "            flabel = get_flabel(fpath, AUD_FORMAT)\n",
    "            if flabel == label:\n",
    "                return strip_dir(fpath, \"/\" + DIR_AUD)\n",
    "        return None # no warning needed\n",
    "    \n",
    "    def save_err_img(fpath, msg):\n",
    "        print(msg + \" : \" + fpath)\n",
    "        im = Image.open(fpath)\n",
    "        im.save(base_path + DIR_IMG_ERR + get_fname(fpath).replace(IMG_FORMAT, \"\") + \"_\" + msg + IMG_FORMAT)\n",
    "    \n",
    "    def get_gps_for_fpath(fpath):\n",
    "        im = Image.open(fpath)\n",
    "        edat = getexifdata.get_exif_data(im)\n",
    "        lat, lng = getexifdata.get_lat_lon(edat)\n",
    "        if lat == None or lng == None:\n",
    "            save_err_img(fpath, \"WARNING! no gps data for image\")\n",
    "            return None\n",
    "        else:\n",
    "            return {\"lat\":lat, \"lng\":lng}\n",
    "\n",
    "    try:\n",
    "        to_unicode = unicode\n",
    "    except NameError:\n",
    "        to_unicode = str    \n",
    "    \n",
    "    def find_kml():\n",
    "        return [strip_dir(fpath, \"/\" + DIR_KML) for fpath in glob.glob(base_path + DIR_KML + \"*.kml\")]\n",
    "    \n",
    "    def reorient_img(fileName, height):\n",
    "        # thanks storm_to : http://stackoverflow.com/questions/4228530/pil-thumbnail-is-rotating-my-image \n",
    "        fpath = base_path + DIR_IMG_ORIG + fileName\n",
    "        image=Image.open(fpath)\n",
    "        exif_raw = image._getexif()\n",
    "        if (exif_raw):\n",
    "            for orientation in ExifTags.TAGS.keys() : \n",
    "                if ExifTags.TAGS[orientation]=='Orientation' : break \n",
    "            exif=dict(exif_raw.items())\n",
    "            \n",
    "            try:\n",
    "                if   exif[orientation] == 3 : \n",
    "                    image=image.rotate(180, expand=True)\n",
    "                elif exif[orientation] == 6 : \n",
    "                    image=image.rotate(270, expand=True)\n",
    "                elif exif[orientation] == 8 : \n",
    "                    image=image.rotate(90, expand=True)\n",
    "            except KeyError:\n",
    "                False\n",
    "                #print(\"No orientation EXIF data for: \" + fileName)\n",
    "        \n",
    "        # thumnail\n",
    "        r = float(height) / image.size[1]\n",
    "        w = float(image.size[0]) * r\n",
    "        image.thumbnail((w, height), Image.ANTIALIAS)\n",
    "        image.save(base_path + DIR_IMG_THUMBNAIL + fileName)\n",
    "\n",
    "    ####################\n",
    "    ###\n",
    "    ### sanity check\n",
    "    ###\n",
    "\n",
    "    # sanity check: every audio file should have a matching img\n",
    "    def ensure_audio_img_match():\n",
    "        # error if an audio file has no image. slow, but we should ensure this.\n",
    "        for fpath in glob.glob(base_path + DIR_AUD + \"*\" + AUD_FORMAT):\n",
    "            match = False\n",
    "            for imgpath in glob.glob(base_path + DIR_IMG_ORIG + \"*\" + IMG_FORMAT):\n",
    "                if get_flabel(imgpath, IMG_FORMAT) == get_flabel(fpath, AUD_FORMAT):\n",
    "                    match = True\n",
    "            if not match:\n",
    "                #raise FileNotFoundError(\"no image for audio file: \" + fpath)\n",
    "                return True\n",
    "\n",
    "    # sanity check: every image should have GPS coordinates\n",
    "    def ensure_img_gps():\n",
    "        [get_gps_for_fpath(fpath) for fpath in glob.glob(base_path + DIR_IMG_ORIG + \"*\" + IMG_FORMAT)]\n",
    "\n",
    "    ####################\n",
    "    ###\n",
    "    ### run\n",
    "    ###\n",
    "    ensure_img_gps()\n",
    "    ensure_audio_img_match()\n",
    "\n",
    "    # read json template\n",
    "    with open(base_path + INPUT_JSON) as data_file:\n",
    "        data = json.load(data_file)\n",
    "        data[\"layers\"] = find_kml()\n",
    "\n",
    "        # for every image...\n",
    "        files = glob.glob(base_path + DIR_IMG_ORIG + \"*\" + IMG_FORMAT)\n",
    "        for fpath in logprogress.log_progress(files):\n",
    "            \n",
    "            # compile location info\n",
    "            flabel = get_flabel(fpath, IMG_FORMAT)\n",
    "            fnam = get_fname(fpath)\n",
    "            \n",
    "            #print(\"processing: \" + fnam)\n",
    "            \n",
    "            loc = get_gps_for_fpath(fpath)\n",
    "            \n",
    "            if loc != None:\n",
    "                marker = {\n",
    "                    \"label\": flabel,\n",
    "                    \"loc\": loc,\n",
    "                    \"img\": fnam,\n",
    "                    \"aud\": find_audio_for_img(flabel)\n",
    "                }\n",
    "                data[\"locations\"].append(marker)\n",
    "\n",
    "                # save web-friendly image (rotated & small)\n",
    "                reorient_img(fnam, SIZE_IMG_THUMBNAIL)\n",
    "        \n",
    "        # Write JSON file\n",
    "        # http://stackoverflow.com/questions/12309269/how-do-i-write-json-data-to-a-file-in-python\n",
    "        with io.open(base_path + OUTPUT_JSON, 'w', encoding='utf8') as outfile:\n",
    "            str_ = json.dumps(data,\n",
    "                              indent=4, sort_keys=True,\n",
    "                              separators=(',', ':'), ensure_ascii=False)\n",
    "            outfile.write(to_unicode(str_))\n",
    "        \n",
    "print(\"done.\")\n"
   ]
  },
  {
   "cell_type": "code",
   "execution_count": null,
   "metadata": {
    "collapsed": true
   },
   "outputs": [],
   "source": []
  }
 ],
 "metadata": {
  "anaconda-cloud": {},
  "kernelspec": {
   "display_name": "Python [conda root]",
   "language": "python",
   "name": "conda-root-py"
  },
  "language_info": {
   "codemirror_mode": {
    "name": "ipython",
    "version": 3
   },
   "file_extension": ".py",
   "mimetype": "text/x-python",
   "name": "python",
   "nbconvert_exporter": "python",
   "pygments_lexer": "ipython3",
   "version": "3.5.2"
  },
  "widgets": {
   "state": {
    "1bd75b63298f47878601660af0fbedd7": {
     "views": [
      {
       "cell_index": 0
      }
     ]
    },
    "26c418ca41ac405c91d9a9c3c981d8fc": {
     "views": [
      {
       "cell_index": 0
      }
     ]
    },
    "33201b7b31ab404db75e5fe320d55bfd": {
     "views": [
      {
       "cell_index": 0
      }
     ]
    },
    "3f330c5c9b2d4b70aafc9904351925b4": {
     "views": [
      {
       "cell_index": 0
      }
     ]
    },
    "5ad8c822af784e7dabb0807f86abb43c": {
     "views": [
      {
       "cell_index": 0
      }
     ]
    },
    "8a8ea041cb5b4c9f9753e356360c65b8": {
     "views": [
      {
       "cell_index": 0
      }
     ]
    },
    "90d2cbb87c5d487b8ec552b6d5c7987b": {
     "views": [
      {
       "cell_index": 0
      }
     ]
    },
    "d158f452efbc426b86eecdbb46f59f06": {
     "views": [
      {
       "cell_index": 0
      }
     ]
    },
    "fbc1b8b882824ded892f4f0d9581b7da": {
     "views": [
      {
       "cell_index": 0
      }
     ]
    }
   },
   "version": "1.2.0"
  }
 },
 "nbformat": 4,
 "nbformat_minor": 1
}
