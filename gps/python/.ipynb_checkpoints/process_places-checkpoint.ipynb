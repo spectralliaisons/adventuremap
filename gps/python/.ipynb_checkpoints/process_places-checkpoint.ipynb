{
 "cells": [
  {
   "cell_type": "code",
   "execution_count": 27,
   "metadata": {
    "collapsed": true
   },
   "outputs": [],
   "source": [
    "from PIL import Image, ExifTags\n",
    "import getexifdata, glob, os, json, io, shutil, logprogress\n",
    "\n",
    "DIR_PLACES = \"../Places/\"\n",
    "DIR_KML = \"kml/\"\n",
    "DIR_AUD = \"aud/\"\n",
    "DIR_IMG_ORIG = \"img/\"\n",
    "DIR_IMG_THUMBNAIL = \"imgSm/\"\n",
    "DIR_IMG_ERR = \"imgErr/\"\n",
    "\n",
    "IMG_FORMAT = \".jpg\"\n",
    "AUD_FORMAT = \".mp3\"\n",
    "\n",
    "INPUT_JSON = \"info_template.json\"\n",
    "OUTPUT_JSON = \"info.json\"\n",
    "SMRY_JSON = \"all_rivers.json\"\n",
    "\n",
    "SIZE_IMG_THUMBNAIL = 400\n",
    "\n",
    "# process every dir in Places/\n",
    "placels = glob.glob(DIR_PLACES + \"*/\")"
   ]
  },
  {
   "cell_type": "code",
   "execution_count": 29,
   "metadata": {
    "collapsed": false
   },
   "outputs": [
    {
     "name": "stdout",
     "output_type": "stream",
     "text": [
      "processing place: ../Places/SF_Watershed/\n",
      "WARNING! no gps data for image : ../Places/SF_Watershed/img/2017-02-11 13.42.02 HDR.jpg\n",
      "WARNING! no gps data for image : ../Places/SF_Watershed/img/2017-02-11 13.42.10 HDR.jpg\n",
      "WARNING! no gps data for image : ../Places/SF_Watershed/img/2017-03-19 09.20.03 HDR.jpg\n",
      "WARNING! no gps data for image : ../Places/SF_Watershed/img/2017-03-19 09.20.35 HDR.jpg\n",
      "WARNING! no gps data for image : ../Places/SF_Watershed/img/2017-03-19 08.38.27.jpg\n",
      "WARNING! no gps data for image : ../Places/SF_Watershed/img/2017-02-11 12.55.21.jpg\n",
      "WARNING! no gps data for image : ../Places/SF_Watershed/img/2017-02-11 13.42.02 HDR.jpg\n",
      "WARNING! no gps data for image : ../Places/SF_Watershed/img/2017-02-11 13.42.10 HDR.jpg\n",
      "WARNING! no gps data for image : ../Places/SF_Watershed/img/2017-03-19 09.20.03 HDR.jpg\n",
      "WARNING! no gps data for image : ../Places/SF_Watershed/img/2017-03-19 09.20.35 HDR.jpg\n",
      "WARNING! no gps data for image : ../Places/SF_Watershed/img/2017-03-19 08.38.27.jpg\n",
      "WARNING! no gps data for image : ../Places/SF_Watershed/img/2017-02-11 12.55.21.jpg\n",
      "processing place: ../Places/Sacramento_River/\n",
      "processing place: ../Places/San_Joaquin_River/\n",
      "processing place: ../Places/Feather_River/\n",
      "WARNING! no gps data for image : ../Places/Feather_River/img/2017-06-25 13.57.57 HDR.jpg\n",
      "WARNING! no gps data for image : ../Places/Feather_River/img/2017-06-25 13.57.57 HDR.jpg\n",
      "processing place: ../Places/Russian_River/\n",
      "WARNING! no gps data for image : ../Places/Russian_River/img/IMG_4529.jpg\n",
      "WARNING! no gps data for image : ../Places/Russian_River/img/IMG_4343.jpg\n",
      "WARNING! no gps data for image : ../Places/Russian_River/img/IMG_4529.jpg\n"
     ]
    },
    {
     "ename": "KeyboardInterrupt",
     "evalue": "",
     "output_type": "error",
     "traceback": [
      "\u001b[0;31m---------------------------------------------------------------------------\u001b[0m",
      "\u001b[0;31mKeyboardInterrupt\u001b[0m                         Traceback (most recent call last)",
      "\u001b[0;32m<ipython-input-29-9cecd21ec0d9>\u001b[0m in \u001b[0;36m<module>\u001b[0;34m()\u001b[0m\n\u001b[1;32m    146\u001b[0m \u001b[0;34m\u001b[0m\u001b[0m\n\u001b[1;32m    147\u001b[0m                 \u001b[0;31m# save web-friendly image (rotated & small)\u001b[0m\u001b[0;34m\u001b[0m\u001b[0;34m\u001b[0m\u001b[0m\n\u001b[0;32m--> 148\u001b[0;31m                 \u001b[0mreorient_img\u001b[0m\u001b[0;34m(\u001b[0m\u001b[0mfnam\u001b[0m\u001b[0;34m,\u001b[0m \u001b[0mSIZE_IMG_THUMBNAIL\u001b[0m\u001b[0;34m)\u001b[0m\u001b[0;34m\u001b[0m\u001b[0m\n\u001b[0m\u001b[1;32m    149\u001b[0m \u001b[0;34m\u001b[0m\u001b[0m\n\u001b[1;32m    150\u001b[0m         \u001b[0;31m# Write JSON file\u001b[0m\u001b[0;34m\u001b[0m\u001b[0;34m\u001b[0m\u001b[0m\n",
      "\u001b[0;32m<ipython-input-29-9cecd21ec0d9>\u001b[0m in \u001b[0;36mreorient_img\u001b[0;34m(fileName, height)\u001b[0m\n\u001b[1;32m     88\u001b[0m         \u001b[0mr\u001b[0m \u001b[0;34m=\u001b[0m \u001b[0mfloat\u001b[0m\u001b[0;34m(\u001b[0m\u001b[0mheight\u001b[0m\u001b[0;34m)\u001b[0m \u001b[0;34m/\u001b[0m \u001b[0mimage\u001b[0m\u001b[0;34m.\u001b[0m\u001b[0msize\u001b[0m\u001b[0;34m[\u001b[0m\u001b[0;36m1\u001b[0m\u001b[0;34m]\u001b[0m\u001b[0;34m\u001b[0m\u001b[0m\n\u001b[1;32m     89\u001b[0m         \u001b[0mw\u001b[0m \u001b[0;34m=\u001b[0m \u001b[0mfloat\u001b[0m\u001b[0;34m(\u001b[0m\u001b[0mimage\u001b[0m\u001b[0;34m.\u001b[0m\u001b[0msize\u001b[0m\u001b[0;34m[\u001b[0m\u001b[0;36m0\u001b[0m\u001b[0;34m]\u001b[0m\u001b[0;34m)\u001b[0m \u001b[0;34m*\u001b[0m \u001b[0mr\u001b[0m\u001b[0;34m\u001b[0m\u001b[0m\n\u001b[0;32m---> 90\u001b[0;31m         \u001b[0mimage\u001b[0m\u001b[0;34m.\u001b[0m\u001b[0mthumbnail\u001b[0m\u001b[0;34m(\u001b[0m\u001b[0;34m(\u001b[0m\u001b[0mw\u001b[0m\u001b[0;34m,\u001b[0m \u001b[0mheight\u001b[0m\u001b[0;34m)\u001b[0m\u001b[0;34m,\u001b[0m \u001b[0mImage\u001b[0m\u001b[0;34m.\u001b[0m\u001b[0mANTIALIAS\u001b[0m\u001b[0;34m)\u001b[0m\u001b[0;34m\u001b[0m\u001b[0m\n\u001b[0m\u001b[1;32m     91\u001b[0m         \u001b[0mimage\u001b[0m\u001b[0;34m.\u001b[0m\u001b[0msave\u001b[0m\u001b[0;34m(\u001b[0m\u001b[0mbase_path\u001b[0m \u001b[0;34m+\u001b[0m \u001b[0mDIR_IMG_THUMBNAIL\u001b[0m \u001b[0;34m+\u001b[0m \u001b[0mfileName\u001b[0m\u001b[0;34m)\u001b[0m\u001b[0;34m\u001b[0m\u001b[0m\n\u001b[1;32m     92\u001b[0m \u001b[0;34m\u001b[0m\u001b[0m\n",
      "\u001b[0;32m/Users/wesjackson/anaconda/lib/python3.5/site-packages/PIL/Image.py\u001b[0m in \u001b[0;36mthumbnail\u001b[0;34m(self, size, resample)\u001b[0m\n\u001b[1;32m   1798\u001b[0m         \u001b[0mself\u001b[0m\u001b[0;34m.\u001b[0m\u001b[0mdraft\u001b[0m\u001b[0;34m(\u001b[0m\u001b[0;32mNone\u001b[0m\u001b[0;34m,\u001b[0m \u001b[0msize\u001b[0m\u001b[0;34m)\u001b[0m\u001b[0;34m\u001b[0m\u001b[0m\n\u001b[1;32m   1799\u001b[0m \u001b[0;34m\u001b[0m\u001b[0m\n\u001b[0;32m-> 1800\u001b[0;31m         \u001b[0mim\u001b[0m \u001b[0;34m=\u001b[0m \u001b[0mself\u001b[0m\u001b[0;34m.\u001b[0m\u001b[0mresize\u001b[0m\u001b[0;34m(\u001b[0m\u001b[0msize\u001b[0m\u001b[0;34m,\u001b[0m \u001b[0mresample\u001b[0m\u001b[0;34m)\u001b[0m\u001b[0;34m\u001b[0m\u001b[0m\n\u001b[0m\u001b[1;32m   1801\u001b[0m \u001b[0;34m\u001b[0m\u001b[0m\n\u001b[1;32m   1802\u001b[0m         \u001b[0mself\u001b[0m\u001b[0;34m.\u001b[0m\u001b[0mim\u001b[0m \u001b[0;34m=\u001b[0m \u001b[0mim\u001b[0m\u001b[0;34m.\u001b[0m\u001b[0mim\u001b[0m\u001b[0;34m\u001b[0m\u001b[0m\n",
      "\u001b[0;32m/Users/wesjackson/anaconda/lib/python3.5/site-packages/PIL/Image.py\u001b[0m in \u001b[0;36mresize\u001b[0;34m(self, size, resample)\u001b[0m\n\u001b[1;32m   1531\u001b[0m             \u001b[0;32mraise\u001b[0m \u001b[0mValueError\u001b[0m\u001b[0;34m(\u001b[0m\u001b[0;34m\"unknown resampling filter\"\u001b[0m\u001b[0;34m)\u001b[0m\u001b[0;34m\u001b[0m\u001b[0m\n\u001b[1;32m   1532\u001b[0m \u001b[0;34m\u001b[0m\u001b[0m\n\u001b[0;32m-> 1533\u001b[0;31m         \u001b[0mself\u001b[0m\u001b[0;34m.\u001b[0m\u001b[0mload\u001b[0m\u001b[0;34m(\u001b[0m\u001b[0;34m)\u001b[0m\u001b[0;34m\u001b[0m\u001b[0m\n\u001b[0m\u001b[1;32m   1534\u001b[0m \u001b[0;34m\u001b[0m\u001b[0m\n\u001b[1;32m   1535\u001b[0m         \u001b[0msize\u001b[0m \u001b[0;34m=\u001b[0m \u001b[0mtuple\u001b[0m\u001b[0;34m(\u001b[0m\u001b[0msize\u001b[0m\u001b[0;34m)\u001b[0m\u001b[0;34m\u001b[0m\u001b[0m\n",
      "\u001b[0;32m/Users/wesjackson/anaconda/lib/python3.5/site-packages/PIL/ImageFile.py\u001b[0m in \u001b[0;36mload\u001b[0;34m(self)\u001b[0m\n\u001b[1;32m    223\u001b[0m \u001b[0;34m\u001b[0m\u001b[0m\n\u001b[1;32m    224\u001b[0m                         \u001b[0mb\u001b[0m \u001b[0;34m=\u001b[0m \u001b[0mb\u001b[0m \u001b[0;34m+\u001b[0m \u001b[0ms\u001b[0m\u001b[0;34m\u001b[0m\u001b[0m\n\u001b[0;32m--> 225\u001b[0;31m                         \u001b[0mn\u001b[0m\u001b[0;34m,\u001b[0m \u001b[0merr_code\u001b[0m \u001b[0;34m=\u001b[0m \u001b[0mdecoder\u001b[0m\u001b[0;34m.\u001b[0m\u001b[0mdecode\u001b[0m\u001b[0;34m(\u001b[0m\u001b[0mb\u001b[0m\u001b[0;34m)\u001b[0m\u001b[0;34m\u001b[0m\u001b[0m\n\u001b[0m\u001b[1;32m    226\u001b[0m                         \u001b[0;32mif\u001b[0m \u001b[0mn\u001b[0m \u001b[0;34m<\u001b[0m \u001b[0;36m0\u001b[0m\u001b[0;34m:\u001b[0m\u001b[0;34m\u001b[0m\u001b[0m\n\u001b[1;32m    227\u001b[0m                             \u001b[0;32mbreak\u001b[0m\u001b[0;34m\u001b[0m\u001b[0m\n",
      "\u001b[0;31mKeyboardInterrupt\u001b[0m: "
     ]
    }
   ],
   "source": [
    "# or maybe only process a single place\n",
    "# placels = [DIR_PLACES + \"YubaRiver/\"]\n",
    "\n",
    "# create json of all places. initialize with a \"place\" called \"All\"\n",
    "all_places = {\"places\":[{\"id\":\"All\", \"disp\":\"All\"}]}\n",
    "\n",
    "# process each directory\n",
    "for base_path in logprogress.log_progress(placels):\n",
    "    \n",
    "    print(\"processing place: \" + base_path)\n",
    "    \n",
    "    # clear workspace\n",
    "    try:\n",
    "        shutil.rmtree(base_path + DIR_IMG_THUMBNAIL)\n",
    "        os.makedirs(base_path + DIR_IMG_THUMBNAIL)\n",
    "        shutil.rmtree(base_path + DIR_IMG_ERR)\n",
    "        os.makedirs(base_path + DIR_IMG_ERR)\n",
    "    except FileNotFoundError:\n",
    "        print(\"missing img dirs for: \" + base_path)\n",
    "\n",
    "    ####################\n",
    "    ###\n",
    "    ### helper functions\n",
    "    ###\n",
    "    \n",
    "    def strip_dir(fpath, dir):\n",
    "        i = fpath.index(dir)+len(dir)\n",
    "        return fpath[i:len(fpath)]\n",
    "\n",
    "    def get_fname(fpath):\n",
    "        return fpath.split(\"/\")[-1]\n",
    "\n",
    "    def get_flabel(fpath, ext):\n",
    "        return get_fname(fpath).replace(ext, \"\")\n",
    "\n",
    "    def find_audio_for_img(label):\n",
    "        for fpath in glob.glob(base_path + DIR_AUD + \"*\" + AUD_FORMAT):\n",
    "            flabel = get_flabel(fpath, AUD_FORMAT)\n",
    "            if flabel == label:\n",
    "                return strip_dir(fpath, \"/\" + DIR_AUD)\n",
    "        return None # no warning needed\n",
    "    \n",
    "    def save_err_img(fpath, msg):\n",
    "        print(msg + \" : \" + fpath)\n",
    "        im = Image.open(fpath)\n",
    "        im.save(base_path + DIR_IMG_ERR + get_fname(fpath).replace(IMG_FORMAT, \"\") + \"_\" + msg + IMG_FORMAT)\n",
    "    \n",
    "    def get_gps_for_fpath(fpath):\n",
    "        im = Image.open(fpath)\n",
    "        edat = getexifdata.get_exif_data(im)\n",
    "        lat, lng = getexifdata.get_lat_lon(edat)\n",
    "        if lat == None or lng == None:\n",
    "            save_err_img(fpath, \"WARNING! no gps data for image\")\n",
    "            return None\n",
    "        else:\n",
    "            return {\"lat\":lat, \"lng\":lng}\n",
    "\n",
    "    try:\n",
    "        to_unicode = unicode\n",
    "    except NameError:\n",
    "        to_unicode = str    \n",
    "    \n",
    "    def find_kml():\n",
    "        return [strip_dir(fpath, \"/\" + DIR_KML) for fpath in glob.glob(base_path + DIR_KML + \"*.kml\")]\n",
    "    \n",
    "    def reorient_img(fileName, height):\n",
    "        # thanks storm_to : http://stackoverflow.com/questions/4228530/pil-thumbnail-is-rotating-my-image \n",
    "        fpath = base_path + DIR_IMG_ORIG + fileName\n",
    "        image=Image.open(fpath)\n",
    "        exif_raw = image._getexif()\n",
    "        if (exif_raw):\n",
    "            for orientation in ExifTags.TAGS.keys() : \n",
    "                if ExifTags.TAGS[orientation]=='Orientation' : break \n",
    "            exif=dict(exif_raw.items())\n",
    "            \n",
    "            try:\n",
    "                if   exif[orientation] == 3 : \n",
    "                    image=image.rotate(180, expand=True)\n",
    "                elif exif[orientation] == 6 : \n",
    "                    image=image.rotate(270, expand=True)\n",
    "                elif exif[orientation] == 8 : \n",
    "                    image=image.rotate(90, expand=True)\n",
    "            except KeyError:\n",
    "                False\n",
    "                #print(\"No orientation EXIF data for: \" + fileName)\n",
    "        \n",
    "        # thumnail\n",
    "        r = float(height) / image.size[1]\n",
    "        w = float(image.size[0]) * r\n",
    "        image.thumbnail((w, height), Image.ANTIALIAS)\n",
    "        image.save(base_path + DIR_IMG_THUMBNAIL + fileName)\n",
    "\n",
    "    ####################\n",
    "    ###\n",
    "    ### sanity check\n",
    "    ###\n",
    "\n",
    "    # sanity check: every audio file should have a matching img\n",
    "    def ensure_audio_img_match():\n",
    "        # error if an audio file has no image. slow, but we should ensure this.\n",
    "        for fpath in glob.glob(base_path + DIR_AUD + \"*\" + AUD_FORMAT):\n",
    "            match = False\n",
    "            for imgpath in glob.glob(base_path + DIR_IMG_ORIG + \"*\" + IMG_FORMAT):\n",
    "                if get_flabel(imgpath, IMG_FORMAT) == get_flabel(fpath, AUD_FORMAT):\n",
    "                    match = True\n",
    "            if not match:\n",
    "                #raise FileNotFoundError(\"no image for audio file: \" + fpath)\n",
    "                return True\n",
    "\n",
    "    # sanity check: every image should have GPS coordinates\n",
    "    def ensure_img_gps():\n",
    "        [get_gps_for_fpath(fpath) for fpath in glob.glob(base_path + DIR_IMG_ORIG + \"*\" + IMG_FORMAT)]\n",
    "\n",
    "    ####################\n",
    "    ###\n",
    "    ### run\n",
    "    ###\n",
    "    ensure_img_gps()\n",
    "    ensure_audio_img_match()\n",
    "\n",
    "    # read json template\n",
    "    with open(base_path + INPUT_JSON) as data_file:\n",
    "        data = json.load(data_file)\n",
    "        data[\"layers\"] = find_kml()\n",
    "\n",
    "        # for every image...\n",
    "        files = glob.glob(base_path + DIR_IMG_ORIG + \"*\" + IMG_FORMAT)\n",
    "        for fpath in logprogress.log_progress(files):\n",
    "            \n",
    "            # compile location info\n",
    "            flabel = get_flabel(fpath, IMG_FORMAT)\n",
    "            fnam = get_fname(fpath)\n",
    "            \n",
    "            #print(\"processing: \" + fnam)\n",
    "            \n",
    "            loc = get_gps_for_fpath(fpath)\n",
    "            \n",
    "            if loc != None:\n",
    "                marker = {\n",
    "                    \"label\": flabel,\n",
    "                    \"loc\": loc,\n",
    "                    \"img\": fnam,\n",
    "                    \"aud\": find_audio_for_img(flabel)\n",
    "                }\n",
    "                data[\"locations\"].append(marker)\n",
    "\n",
    "                # save web-friendly image (rotated & small)\n",
    "                reorient_img(fnam, SIZE_IMG_THUMBNAIL)\n",
    "        \n",
    "        # Write JSON file\n",
    "        # http://stackoverflow.com/questions/12309269/how-do-i-write-json-data-to-a-file-in-python\n",
    "        with io.open(base_path + OUTPUT_JSON, 'w', encoding='utf8') as outfile:\n",
    "            str_ = json.dumps(data,\n",
    "                              indent=4, sort_keys=True,\n",
    "                              separators=(',', ':'), ensure_ascii=False)\n",
    "            outfile.write(to_unicode(str_))\n",
    "    \n",
    "    # add to summary json\n",
    "    dirName = base_path.split(\"/\")[-2]\n",
    "    dispName = dirName.replace(\"_\", \" \")\n",
    "    htmlId = dirName.replace(\"_\", \"\")\n",
    "    \n",
    "    all_places[\"places\"].append({\n",
    "        \"id\": htmlId,\n",
    "        \"disp\": dispName\n",
    "    })\n",
    "\n",
    "# write summary json: all place names\n",
    "with io.open(DIR_PLACES + SMRY_JSON, 'w', encoding='utf8') as outfile:\n",
    "    str_ = json.dumps(all_places,\n",
    "                      indent=4, sort_keys=True,\n",
    "                      separators=(',', ':'), ensure_ascii=False)\n",
    "    outfile.write(to_unicode(str_))\n",
    "            \n",
    "print(\"done.\")"
   ]
  },
  {
   "cell_type": "code",
   "execution_count": null,
   "metadata": {
    "collapsed": true
   },
   "outputs": [],
   "source": []
  }
 ],
 "metadata": {
  "anaconda-cloud": {},
  "kernelspec": {
   "display_name": "Python [conda root]",
   "language": "python",
   "name": "conda-root-py"
  },
  "language_info": {
   "codemirror_mode": {
    "name": "ipython",
    "version": 3
   },
   "file_extension": ".py",
   "mimetype": "text/x-python",
   "name": "python",
   "nbconvert_exporter": "python",
   "pygments_lexer": "ipython3",
   "version": "3.5.2"
  },
  "widgets": {
   "state": {
    "05d7ff2613814fc186a32cafd93292b1": {
     "views": [
      {
       "cell_index": 1
      }
     ]
    },
    "087666e0032c43e39f8b3e8c68dc5f7f": {
     "views": [
      {
       "cell_index": 1
      }
     ]
    },
    "0f7af16174884874b7176a30598825b6": {
     "views": [
      {
       "cell_index": 1
      }
     ]
    },
    "1e73ae07ae3247b998f29ce1b5109591": {
     "views": [
      {
       "cell_index": 1
      }
     ]
    },
    "226b98571c4943abb86e890522f55005": {
     "views": [
      {
       "cell_index": 1
      }
     ]
    },
    "2eef6fbf8a1a4b948c669dcd2e6c5826": {
     "views": [
      {
       "cell_index": 1
      }
     ]
    },
    "49857cbc65844751a461bf7ee58eea29": {
     "views": [
      {
       "cell_index": 1
      }
     ]
    },
    "4b376d508a424f43a8e796c77e6e4604": {
     "views": [
      {
       "cell_index": 1
      }
     ]
    },
    "66e8ae9a180f4bb1914ab53ccec3513f": {
     "views": [
      {
       "cell_index": 1
      }
     ]
    },
    "8c1b4f3dd0094aefb0255d35267b00b9": {
     "views": [
      {
       "cell_index": 1
      }
     ]
    },
    "91158b149ef54b3999e680c3934351f9": {
     "views": [
      {
       "cell_index": 1
      }
     ]
    },
    "b3847c8751cb44f7a935b75e72e7ddaf": {
     "views": [
      {
       "cell_index": 1
      }
     ]
    },
    "de0f8f50d65f4d21b2f204c6c36c77ba": {
     "views": [
      {
       "cell_index": 1
      }
     ]
    },
    "fe848cca2a5b4d8dbf655e26c0eaa0bb": {
     "views": [
      {
       "cell_index": 1
      }
     ]
    }
   },
   "version": "1.2.0"
  }
 },
 "nbformat": 4,
 "nbformat_minor": 1
}
